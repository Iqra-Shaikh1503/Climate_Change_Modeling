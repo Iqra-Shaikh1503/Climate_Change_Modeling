{
 "cells": [
  {
   "cell_type": "markdown",
   "id": "3c6c5f49",
   "metadata": {},
   "source": [
    "# Model building and training"
   ]
  },
  {
   "cell_type": "code",
   "execution_count": 1,
   "id": "479b7059",
   "metadata": {},
   "outputs": [],
   "source": [
    "# Importing important libraries and modelues packages\n",
    "import pandas as pd\n",
    "import re\n",
    "import joblib\n",
    "import seaborn as sns\n",
    "import matplotlib.pyplot as plt\n",
    "from textblob import TextBlob\n",
    "\n",
    "from sklearn.model_selection import train_test_split\n",
    "from sklearn.feature_extraction.text import TfidfVectorizer\n",
    "from sklearn.linear_model import LogisticRegression\n",
    "from sklearn.naive_bayes import MultinomialNB\n",
    "from sklearn.ensemble import RandomForestClassifier\n",
    "from xgboost import XGBClassifier\n",
    "from sklearn.metrics import classification_report, confusion_matrix, accuracy_score"
   ]
  },
  {
   "cell_type": "code",
   "execution_count": 2,
   "id": "e9d0982b",
   "metadata": {},
   "outputs": [
    {
     "data": {
      "text/html": [
       "<div>\n",
       "<style scoped>\n",
       "    .dataframe tbody tr th:only-of-type {\n",
       "        vertical-align: middle;\n",
       "    }\n",
       "\n",
       "    .dataframe tbody tr th {\n",
       "        vertical-align: top;\n",
       "    }\n",
       "\n",
       "    .dataframe thead th {\n",
       "        text-align: right;\n",
       "    }\n",
       "</style>\n",
       "<table border=\"1\" class=\"dataframe\">\n",
       "  <thead>\n",
       "    <tr style=\"text-align: right;\">\n",
       "      <th></th>\n",
       "      <th>date</th>\n",
       "      <th>likesCount</th>\n",
       "      <th>commentsCount</th>\n",
       "      <th>year</th>\n",
       "      <th>month</th>\n",
       "      <th>weekday</th>\n",
       "      <th>clean_text</th>\n",
       "      <th>sentiment</th>\n",
       "    </tr>\n",
       "  </thead>\n",
       "  <tbody>\n",
       "    <tr>\n",
       "      <th>0</th>\n",
       "      <td>2022-09-07 17:12:32+00:00</td>\n",
       "      <td>2</td>\n",
       "      <td>5.0</td>\n",
       "      <td>2022</td>\n",
       "      <td>9</td>\n",
       "      <td>Wednesday</td>\n",
       "      <td>neat comparison i have not heard it before   i...</td>\n",
       "      <td>neutral</td>\n",
       "    </tr>\n",
       "    <tr>\n",
       "      <th>1</th>\n",
       "      <td>2022-09-08 14:51:13+00:00</td>\n",
       "      <td>0</td>\n",
       "      <td>5.0</td>\n",
       "      <td>2022</td>\n",
       "      <td>9</td>\n",
       "      <td>Thursday</td>\n",
       "      <td>an excellent way to visualise the invisible  t...</td>\n",
       "      <td>positive</td>\n",
       "    </tr>\n",
       "    <tr>\n",
       "      <th>2</th>\n",
       "      <td>2022-09-07 17:19:41+00:00</td>\n",
       "      <td>1</td>\n",
       "      <td>3.0</td>\n",
       "      <td>2022</td>\n",
       "      <td>9</td>\n",
       "      <td>Wednesday</td>\n",
       "      <td>does the co  ghg in the troposphere affect the...</td>\n",
       "      <td>neutral</td>\n",
       "    </tr>\n",
       "  </tbody>\n",
       "</table>\n",
       "</div>"
      ],
      "text/plain": [
       "                        date  likesCount  commentsCount  year  month  \\\n",
       "0  2022-09-07 17:12:32+00:00           2            5.0  2022      9   \n",
       "1  2022-09-08 14:51:13+00:00           0            5.0  2022      9   \n",
       "2  2022-09-07 17:19:41+00:00           1            3.0  2022      9   \n",
       "\n",
       "     weekday                                         clean_text sentiment  \n",
       "0  Wednesday  neat comparison i have not heard it before   i...   neutral  \n",
       "1   Thursday  an excellent way to visualise the invisible  t...  positive  \n",
       "2  Wednesday  does the co  ghg in the troposphere affect the...   neutral  "
      ]
     },
     "execution_count": 2,
     "metadata": {},
     "output_type": "execute_result"
    }
   ],
   "source": [
    "df = pd.read_csv(r\"C:\\Users\\IQRA SHAIKH\\OneDrive\\Documents\\GitHub\\Climate_change_modeling\\projects_files\\climate_nasa_cleaned.csv\")\n",
    "df.head(3)"
   ]
  },
  {
   "cell_type": "code",
   "execution_count": 7,
   "id": "e87f395a",
   "metadata": {},
   "outputs": [],
   "source": [
    "# Drop rows with missing or empty clean_text or sentiment\n",
    "df = df[df['clean_text'].notna() & df['clean_text'].str.strip().ne(\"\")]\n",
    "df = df[df['sentiment'].notna()]\n",
    "\n",
    "# Now extract X and y\n",
    "X = df['clean_text']\n",
    "y = df['sentiment']"
   ]
  },
  {
   "cell_type": "code",
   "execution_count": 3,
   "id": "cead0cb3",
   "metadata": {},
   "outputs": [],
   "source": [
    "# Feature extraction\n",
    "X = df['clean_text']\n",
    "y = df['sentiment']"
   ]
  },
  {
   "cell_type": "code",
   "execution_count": 26,
   "id": "5b16f233",
   "metadata": {},
   "outputs": [],
   "source": [
    "import re\n",
    "\n",
    "def clean_text(text):\n",
    "\tif pd.isnull(text):\n",
    "\t\treturn \"\"\n",
    "\t# Remove non-alphabetic characters and convert to lowercase\n",
    "\ttext = re.sub(r'[^a-zA-Z\\s]', '', str(text))\n",
    "\treturn text.lower().strip()\n",
    "\n",
    "# Clean and drop bad entries\n",
    "df['clean_text'] = df['clean_text'].apply(clean_text)\n",
    "df = df[df['clean_text'].notna()]\n",
    "df = df[df['clean_text'].str.strip() != \"\"]"
   ]
  },
  {
   "cell_type": "code",
   "execution_count": 27,
   "id": "35d8c4ab",
   "metadata": {},
   "outputs": [],
   "source": [
    "# Redefine X after cleaning to avoid np.nan issues\n",
    "X = df['clean_text']\n",
    "\n",
    "vectorizer = TfidfVectorizer(max_features=3000, stop_words='english')\n",
    "X_vectorized = vectorizer.fit_transform(X)"
   ]
  },
  {
   "cell_type": "code",
   "execution_count": 28,
   "id": "549d7402",
   "metadata": {},
   "outputs": [],
   "source": [
    "vectorizer = TfidfVectorizer(max_features=3000, stop_words='english')\n",
    "X_vectorized = vectorizer.fit_transform(X)\n",
    "\n",
    "# Apply SMOTE\n",
    "from imblearn.over_sampling import SMOTE\n",
    "smote = SMOTE(random_state=42)\n",
    "X_resampled, y_resampled = smote.fit_resample(X_vectorized, y)\n"
   ]
  },
  {
   "cell_type": "code",
   "execution_count": 29,
   "id": "e383e1a9",
   "metadata": {},
   "outputs": [],
   "source": [
    "# Split balanced dataset\n",
    "X_train, X_test, y_train, y_test = train_test_split(\n",
    "    X_resampled, y_resampled, test_size=0.2, random_state=42, stratify=y_resampled\n",
    ")"
   ]
  },
  {
   "cell_type": "code",
   "execution_count": 12,
   "id": "ad41ec95",
   "metadata": {},
   "outputs": [],
   "source": [
    "# 3. Define models\n",
    "models = {\n",
    "    \"Logistic Regression\": LogisticRegression(max_iter=200),\n",
    "    \"Naive Bayes\": MultinomialNB(),\n",
    "    \"Random Forest\": RandomForestClassifier(n_estimators=100, random_state=42),\n",
    "    \"XGBoost\": XGBClassifier(use_label_encoder=False, eval_metric='mlogloss')\n",
    "}"
   ]
  },
  {
   "cell_type": "code",
   "execution_count": 13,
   "id": "35fcec19",
   "metadata": {},
   "outputs": [
    {
     "name": "stdout",
     "output_type": "stream",
     "text": [
      "\n",
      " Training Logistic Regression...\n",
      "✅ Logistic Regression Accuracy: 0.8977\n",
      "              precision    recall  f1-score   support\n",
      "\n",
      "    negative       1.00      0.98      0.99        58\n",
      "     neutral       0.86      0.83      0.84        59\n",
      "    positive       0.84      0.88      0.86        59\n",
      "\n",
      "    accuracy                           0.90       176\n",
      "   macro avg       0.90      0.90      0.90       176\n",
      "weighted avg       0.90      0.90      0.90       176\n",
      "\n",
      "\n",
      " Training Naive Bayes...\n",
      "✅ Naive Bayes Accuracy: 0.8409\n",
      "              precision    recall  f1-score   support\n",
      "\n",
      "    negative       0.79      1.00      0.89        58\n",
      "     neutral       0.94      0.56      0.70        59\n",
      "    positive       0.84      0.97      0.90        59\n",
      "\n",
      "    accuracy                           0.84       176\n",
      "   macro avg       0.86      0.84      0.83       176\n",
      "weighted avg       0.86      0.84      0.83       176\n",
      "\n",
      "\n",
      " Training Random Forest...\n",
      "✅ Random Forest Accuracy: 0.8636\n",
      "              precision    recall  f1-score   support\n",
      "\n",
      "    negative       0.96      0.93      0.95        58\n",
      "     neutral       0.73      0.95      0.82        59\n",
      "    positive       0.98      0.71      0.82        59\n",
      "\n",
      "    accuracy                           0.86       176\n",
      "   macro avg       0.89      0.86      0.86       176\n",
      "weighted avg       0.89      0.86      0.86       176\n",
      "\n",
      "\n",
      " Training XGBoost...\n"
     ]
    },
    {
     "name": "stderr",
     "output_type": "stream",
     "text": [
      "c:\\Users\\IQRA SHAIKH\\OneDrive\\Documents\\GitHub\\Climate_change_modeling\\venv\\Lib\\site-packages\\xgboost\\training.py:183: UserWarning: [19:35:37] WARNING: C:\\actions-runner\\_work\\xgboost\\xgboost\\src\\learner.cc:738: \n",
      "Parameters: { \"use_label_encoder\" } are not used.\n",
      "\n",
      "  bst.update(dtrain, iteration=i, fobj=obj)\n"
     ]
    },
    {
     "name": "stdout",
     "output_type": "stream",
     "text": [
      "✅ XGBoost Accuracy: 0.8466\n",
      "              precision    recall  f1-score   support\n",
      "\n",
      "    negative       0.98      0.91      0.95        58\n",
      "     neutral       0.75      0.85      0.79        59\n",
      "    positive       0.84      0.78      0.81        59\n",
      "\n",
      "    accuracy                           0.85       176\n",
      "   macro avg       0.85      0.85      0.85       176\n",
      "weighted avg       0.85      0.85      0.85       176\n",
      "\n"
     ]
    }
   ],
   "source": [
    "from sklearn.preprocessing import LabelEncoder\n",
    "\n",
    "# 4. Train, predict, evaluate\n",
    "# ----------------------------\n",
    "results = []\n",
    "\n",
    "# Encode labels\n",
    "le = LabelEncoder()\n",
    "y_train_enc = le.fit_transform(y_train)\n",
    "y_test_enc = le.transform(y_test)\n",
    "\n",
    "for name, model in models.items():\n",
    "    print(f\"\\n Training {name}...\")\n",
    "    # Use encoded labels for training if required\n",
    "    if name == \"XGBoost\":\n",
    "        model.fit(X_train, y_train_enc)\n",
    "        y_pred_enc = model.predict(X_test)\n",
    "        y_pred = le.inverse_transform(y_pred_enc)\n",
    "        acc = accuracy_score(y_test, y_pred)\n",
    "        print(f\"✅ {name} Accuracy: {acc:.4f}\")\n",
    "        print(classification_report(y_test, y_pred))\n",
    "    else:\n",
    "        model.fit(X_train, y_train)\n",
    "        y_pred = model.predict(X_test)\n",
    "        acc = accuracy_score(y_test, y_pred)\n",
    "        print(f\"✅ {name} Accuracy: {acc:.4f}\")\n",
    "        print(classification_report(y_test, y_pred))"
   ]
  },
  {
   "cell_type": "code",
   "execution_count": 18,
   "id": "c8b7d7b8",
   "metadata": {},
   "outputs": [],
   "source": [
    "# Metrics for each model and class\n",
    "data = {\n",
    "    'Model': ['Logistic Regression', 'Naive Bayes', 'Random Forest', 'XGBoost'],\n",
    "    'Accuracy': [0.8977, 0.8409, 0.8620, 0.8466],\n",
    "\n",
    "    'Negative_Precision': [1.00, 0.79, 0.88, 0.98],\n",
    "    'Negative_Recall':    [0.98, 1.00, 0.91, 0.91],\n",
    "    'Negative_F1':        [0.99, 0.89, 0.89, 0.95],\n",
    "\n",
    "    'Neutral_Precision':  [0.86, 0.94, 0.92, 0.75],\n",
    "    'Neutral_Recall':     [0.83, 0.56, 0.64, 0.85],\n",
    "    'Neutral_F1':         [0.84, 0.70, 0.75, 0.79],\n",
    "\n",
    "    'Positive_Precision': [0.84, 0.84, 0.86, 0.84],\n",
    "    'Positive_Recall':    [0.88, 0.97, 0.93, 0.78],\n",
    "    'Positive_F1':        [0.86, 0.90, 0.89, 0.81]\n",
    "}\n",
    "# Creating the DataFrame\n",
    "results_df = pd.DataFrame(data)\n"
   ]
  },
  {
   "cell_type": "code",
   "execution_count": 19,
   "id": "76afa6a3",
   "metadata": {},
   "outputs": [
    {
     "name": "stdout",
     "output_type": "stream",
     "text": [
      "\n",
      "📊 Model Evaluation Summary:\n",
      "\n"
     ]
    },
    {
     "data": {
      "text/html": [
       "<div>\n",
       "<style scoped>\n",
       "    .dataframe tbody tr th:only-of-type {\n",
       "        vertical-align: middle;\n",
       "    }\n",
       "\n",
       "    .dataframe tbody tr th {\n",
       "        vertical-align: top;\n",
       "    }\n",
       "\n",
       "    .dataframe thead th {\n",
       "        text-align: right;\n",
       "    }\n",
       "</style>\n",
       "<table border=\"1\" class=\"dataframe\">\n",
       "  <thead>\n",
       "    <tr style=\"text-align: right;\">\n",
       "      <th></th>\n",
       "      <th>Model</th>\n",
       "      <th>Accuracy</th>\n",
       "      <th>Negative_Precision</th>\n",
       "      <th>Negative_Recall</th>\n",
       "      <th>Negative_F1</th>\n",
       "      <th>Neutral_Precision</th>\n",
       "      <th>Neutral_Recall</th>\n",
       "      <th>Neutral_F1</th>\n",
       "      <th>Positive_Precision</th>\n",
       "      <th>Positive_Recall</th>\n",
       "      <th>Positive_F1</th>\n",
       "    </tr>\n",
       "  </thead>\n",
       "  <tbody>\n",
       "    <tr>\n",
       "      <th>0</th>\n",
       "      <td>Logistic Regression</td>\n",
       "      <td>0.8977</td>\n",
       "      <td>1.00</td>\n",
       "      <td>0.98</td>\n",
       "      <td>0.99</td>\n",
       "      <td>0.86</td>\n",
       "      <td>0.83</td>\n",
       "      <td>0.84</td>\n",
       "      <td>0.84</td>\n",
       "      <td>0.88</td>\n",
       "      <td>0.86</td>\n",
       "    </tr>\n",
       "    <tr>\n",
       "      <th>1</th>\n",
       "      <td>Naive Bayes</td>\n",
       "      <td>0.8409</td>\n",
       "      <td>0.79</td>\n",
       "      <td>1.00</td>\n",
       "      <td>0.89</td>\n",
       "      <td>0.94</td>\n",
       "      <td>0.56</td>\n",
       "      <td>0.70</td>\n",
       "      <td>0.84</td>\n",
       "      <td>0.97</td>\n",
       "      <td>0.90</td>\n",
       "    </tr>\n",
       "    <tr>\n",
       "      <th>2</th>\n",
       "      <td>Random Forest</td>\n",
       "      <td>0.8620</td>\n",
       "      <td>0.88</td>\n",
       "      <td>0.91</td>\n",
       "      <td>0.89</td>\n",
       "      <td>0.92</td>\n",
       "      <td>0.64</td>\n",
       "      <td>0.75</td>\n",
       "      <td>0.86</td>\n",
       "      <td>0.93</td>\n",
       "      <td>0.89</td>\n",
       "    </tr>\n",
       "    <tr>\n",
       "      <th>3</th>\n",
       "      <td>XGBoost</td>\n",
       "      <td>0.8466</td>\n",
       "      <td>0.98</td>\n",
       "      <td>0.91</td>\n",
       "      <td>0.95</td>\n",
       "      <td>0.75</td>\n",
       "      <td>0.85</td>\n",
       "      <td>0.79</td>\n",
       "      <td>0.84</td>\n",
       "      <td>0.78</td>\n",
       "      <td>0.81</td>\n",
       "    </tr>\n",
       "  </tbody>\n",
       "</table>\n",
       "</div>"
      ],
      "text/plain": [
       "                 Model  Accuracy  Negative_Precision  Negative_Recall  \\\n",
       "0  Logistic Regression    0.8977                1.00             0.98   \n",
       "1          Naive Bayes    0.8409                0.79             1.00   \n",
       "2        Random Forest    0.8620                0.88             0.91   \n",
       "3              XGBoost    0.8466                0.98             0.91   \n",
       "\n",
       "   Negative_F1  Neutral_Precision  Neutral_Recall  Neutral_F1  \\\n",
       "0         0.99               0.86            0.83        0.84   \n",
       "1         0.89               0.94            0.56        0.70   \n",
       "2         0.89               0.92            0.64        0.75   \n",
       "3         0.95               0.75            0.85        0.79   \n",
       "\n",
       "   Positive_Precision  Positive_Recall  Positive_F1  \n",
       "0                0.84             0.88         0.86  \n",
       "1                0.84             0.97         0.90  \n",
       "2                0.86             0.93         0.89  \n",
       "3                0.84             0.78         0.81  "
      ]
     },
     "metadata": {},
     "output_type": "display_data"
    },
    {
     "name": "stdout",
     "output_type": "stream",
     "text": [
      "✅ Evaluation table saved as 'model_evaluation_summary.csv'\n"
     ]
    }
   ],
   "source": [
    "# Display table\n",
    "print(\"\\n📊 Model Evaluation Summary:\\n\")\n",
    "display(results_df)\n",
    "\n",
    "# Optional: Save as CSV\n",
    "results_df.to_csv(\"model_evaluation_summary.csv\", index=False)\n",
    "print(\"✅ Evaluation table saved as 'model_evaluation_summary.csv'\")"
   ]
  },
  {
   "cell_type": "code",
   "execution_count": 20,
   "id": "7549a6d8",
   "metadata": {},
   "outputs": [],
   "source": [
    "# 5. Visualize comparison\n",
    "# ----------------------------\n",
    "model_names = [r[0] for r in results]\n",
    "accuracies = [r[1] for r in results]"
   ]
  },
  {
   "cell_type": "code",
   "execution_count": 22,
   "id": "99a7ed39",
   "metadata": {},
   "outputs": [
    {
     "name": "stderr",
     "output_type": "stream",
     "text": [
      "C:\\Users\\IQRA SHAIKH\\AppData\\Local\\Temp\\ipykernel_37364\\397078421.py:10: FutureWarning: \n",
      "\n",
      "Passing `palette` without assigning `hue` is deprecated and will be removed in v0.14.0. Assign the `x` variable to `hue` and set `legend=False` for the same effect.\n",
      "\n",
      "  sns.barplot(x=model_names, y=accuracies, palette=\"viridis\")\n",
      "C:\\Users\\IQRA SHAIKH\\AppData\\Local\\Temp\\ipykernel_37364\\397078421.py:22: UserWarning: Glyph 128202 (\\N{BAR CHART}) missing from font(s) DejaVu Sans.\n",
      "  plt.tight_layout()\n",
      "c:\\Users\\IQRA SHAIKH\\OneDrive\\Documents\\GitHub\\Climate_change_modeling\\venv\\Lib\\site-packages\\IPython\\core\\pylabtools.py:170: UserWarning: Glyph 128202 (\\N{BAR CHART}) missing from font(s) DejaVu Sans.\n",
      "  fig.canvas.print_figure(bytes_io, **kw)\n"
     ]
    },
    {
     "data": {
      "image/png": "[encoded data removed]",
      "text/plain": [
       "<Figure size 800x500 with 1 Axes>"
      ]
     },
     "metadata": {},
     "output_type": "display_data"
    }
   ],
   "source": [
    "import matplotlib.pyplot as plt\n",
    "import seaborn as sns\n",
    "\n",
    "# Define model names and accuracy values\n",
    "model_names = ['Logistic Regression', 'Naive Bayes', 'Random Forest', 'XGBoost']\n",
    "accuracies = [0.8977, 0.8409, 0.8620, 0.8466]\n",
    "\n",
    "# Create the bar plot\n",
    "plt.figure(figsize=(8, 5))\n",
    "sns.barplot(x=model_names, y=accuracies, palette=\"viridis\")\n",
    "\n",
    "# Add values on top of each bar\n",
    "for i, acc in enumerate(accuracies):\n",
    "    plt.text(i, acc + 0.005, f\"{acc:.2f}\", ha='center', va='bottom', fontsize=10)\n",
    "\n",
    "# Customize plot\n",
    "plt.title(\"📊 Model Accuracy Comparison\", fontsize=14)\n",
    "plt.ylabel(\"Accuracy\")\n",
    "plt.xlabel(\"Model\")\n",
    "plt.xticks(rotation=20)\n",
    "plt.ylim(0.7, 1.0)\n",
    "plt.tight_layout()\n",
    "plt.grid(axis='y', linestyle='--', alpha=0.6)\n",
    "\n",
    "# Show plot\n",
    "plt.show()\n"
   ]
  },
  {
   "cell_type": "code",
   "execution_count": 31,
   "id": "3660943a",
   "metadata": {},
   "outputs": [
    {
     "data": {
      "image/png": "[encoded data removed]",
      "text/plain": [
       "<Figure size 1552.5x400 with 3 Axes>"
      ]
     },
     "metadata": {},
     "output_type": "display_data"
    }
   ],
   "source": [
    "# Melt results_df for plotting\n",
    "metrics = ['Precision', 'Recall', 'F1']\n",
    "classes = ['Negative', 'Neutral', 'Positive']\n",
    "\n",
    "melted_df = pd.DataFrame()\n",
    "for metric in metrics:\n",
    "    for cls in classes:\n",
    "        col_name = f\"{cls}_{metric}\"\n",
    "        temp = results_df[['Model', col_name]].copy()\n",
    "        temp['Class'] = cls\n",
    "        temp['Metric'] = metric\n",
    "        temp = temp.rename(columns={col_name: 'Score'})\n",
    "        melted_df = pd.concat([melted_df, temp], ignore_index=True)\n",
    "\n",
    "g = sns.catplot(\n",
    "    data=melted_df,\n",
    "    kind='bar',\n",
    "    x='Model',\n",
    "    y='Score',\n",
    "    hue='Class',\n",
    "    col='Metric',\n",
    "    palette='Set2',\n",
    "    height=4,\n",
    "    aspect=1.2\n",
    ")\n",
    "g.set_titles(\"{col_name}\")\n",
    "g.set_xticklabels(rotation=30)\n",
    "g.fig.subplots_adjust(top=0.85)\n",
    "g.fig.suptitle('Precision, Recall, F1-score by Class and Model')\n",
    "plt.show()\n"
   ]
  },
  {
   "cell_type": "code",
   "execution_count": 32,
   "id": "e7ba27a4",
   "metadata": {},
   "outputs": [
    {
     "name": "stdout",
     "output_type": "stream",
     "text": [
      "✅ Best model and vectorizer saved as 'best_sentiment_model.pkl' and 'tfidf_vectorizer.pkl'\n"
     ]
    }
   ],
   "source": [
    "# Save best model and vectorizer\n",
    "logistic_model = models[\"Logistic Regression\"]\n",
    "joblib.dump(logistic_model, 'best_sentiment_model.pkl')\n",
    "joblib.dump(vectorizer, 'tfidf_vectorizer.pkl')\n",
    "\n",
    "print(\"✅ Best model and vectorizer saved as 'best_sentiment_model.pkl' and 'tfidf_vectorizer.pkl'\")\n"
   ]
  },
  {
   "cell_type": "code",
   "execution_count": 34,
   "id": "ecc823b8",
   "metadata": {},
   "outputs": [
    {
     "name": "stdout",
     "output_type": "stream",
     "text": [
      "🏆 Best model 'Logistic Regression' saved successfully!\n"
     ]
    }
   ],
   "source": [
    "# Save the best model\n",
    "import joblib\n",
    "\n",
    "joblib.dump(logistic_model, 'best_sentiment_model.pkl')\n",
    "joblib.dump(vectorizer, 'tfidf_vectorizer.pkl')\n",
    "print(\"🏆 Best model 'Logistic Regression' saved successfully!\")\n"
   ]
  }
 ],
 "metadata": {
  "kernelspec": {
   "display_name": "venv",
   "language": "python",
   "name": "python3"
  },
  "language_info": {
   "codemirror_mode": {
    "name": "ipython",
    "version": 3
   },
   "file_extension": ".py",
   "mimetype": "text/x-python",
   "name": "python",
   "nbconvert_exporter": "python",
   "pygments_lexer": "ipython3",
   "version": "3.12.3"
  }
 },
 "nbformat": 4,
 "nbformat_minor": 5
}
